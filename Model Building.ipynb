{
 "cells": [
  {
   "cell_type": "markdown",
   "id": "cef66b72",
   "metadata": {},
   "source": [
    "### Importing the images from the folders we have created"
   ]
  },
  {
   "cell_type": "code",
   "execution_count": 1,
   "id": "51ecd4b2",
   "metadata": {},
   "outputs": [
    {
     "name": "stderr",
     "output_type": "stream",
     "text": [
      "C:\\Users\\vivek\\AppData\\Roaming\\Python\\Python310\\site-packages\\requests\\__init__.py:102: RequestsDependencyWarning: urllib3 (1.26.9) or chardet (5.1.0)/charset_normalizer (2.0.12) doesn't match a supported version!\n",
      "  warnings.warn(\"urllib3 ({}) or chardet ({})/charset_normalizer ({}) doesn't match a supported \"\n"
     ]
    }
   ],
   "source": [
    "import pandas as pd\n",
    "import numpy as np\n",
    "\n",
    "import tensorflow\n",
    "from tensorflow.keras.layers import Dense, Dropout\n",
    "from tensorflow.keras.optimizers import Adam\n",
    "from tensorflow.keras.metrics import categorical_crossentropy\n",
    "from tensorflow.keras.preprocessing.image import ImageDataGenerator\n",
    "from tensorflow.keras.models import Model\n",
    "from tensorflow.keras.callbacks import EarlyStopping, ReduceLROnPlateau, ModelCheckpoint\n",
    "\n",
    "import os\n",
    "\n",
    "from sklearn.metrics import confusion_matrix\n",
    "from sklearn.model_selection import train_test_split\n",
    "import itertools\n",
    "import shutil\n",
    "import matplotlib.pyplot as plt\n",
    "%matplotlib inline"
   ]
  },
  {
   "cell_type": "code",
   "execution_count": 2,
   "id": "f6c7f9bc",
   "metadata": {},
   "outputs": [
    {
     "name": "stdout",
     "output_type": "stream",
     "text": [
      "4604 406\n"
     ]
    }
   ],
   "source": [
    "train_path = 'Data_Images/train_dir'\n",
    "valid_path = 'Data_Images/val_dir'\n",
    "\n",
    "num_train_samples = 0\n",
    "for i in os.listdir(train_path):\n",
    "    num_train_samples+=len(os.listdir(os.path.join(train_path, i)))\n",
    "\n",
    "num_val_samples = 0\n",
    "for i in os.listdir(valid_path):\n",
    "    num_val_samples+=len(os.listdir(os.path.join(valid_path, i)))\n",
    "    \n",
    "print(num_train_samples, num_val_samples)"
   ]
  },
  {
   "cell_type": "code",
   "execution_count": 3,
   "id": "c36cda02",
   "metadata": {},
   "outputs": [],
   "source": [
    "train_batch_size = 10\n",
    "val_batch_size = 10\n",
    "image_size = 224\n",
    "\n",
    "train_steps = np.ceil(num_train_samples / train_batch_size)\n",
    "val_steps = np.ceil(num_val_samples / val_batch_size)"
   ]
  },
  {
   "cell_type": "markdown",
   "id": "f78d8e82",
   "metadata": {},
   "source": [
    "### Set Up the Generators"
   ]
  },
  {
   "cell_type": "code",
   "execution_count": 4,
   "id": "03799468",
   "metadata": {},
   "outputs": [
    {
     "name": "stdout",
     "output_type": "stream",
     "text": [
      "Found 4604 images belonging to 7 classes.\n",
      "Found 406 images belonging to 7 classes.\n",
      "Found 406 images belonging to 7 classes.\n"
     ]
    }
   ],
   "source": [
    "datagen = ImageDataGenerator(\n",
    "    preprocessing_function= \\\n",
    "    tensorflow.keras.applications.mobilenet.preprocess_input)\n",
    "\n",
    "\n",
    "train_batches = datagen.flow_from_directory(train_path,\n",
    "                                            target_size=(image_size,image_size),\n",
    "                                            batch_size=train_batch_size)\n",
    "\n",
    "valid_batches = datagen.flow_from_directory(valid_path,\n",
    "                                            target_size=(image_size,image_size),\n",
    "                                            batch_size=val_batch_size)\n",
    "\n",
    "# Note: shuffle=False causes the test dataset to not be shuffled\n",
    "test_batches = datagen.flow_from_directory(valid_path,\n",
    "                                            target_size=(image_size,image_size),\n",
    "                                            batch_size=val_batch_size,\n",
    "                                            shuffle=False)\n",
    "\n",
    "# assign batch size to max size to convert Directory Iterator to numpy array\n",
    "# X_train, y_train = train_batches.next()\n",
    "# X_val, y_val = valid_batches.next()\n",
    "# X_test, y_test = valid_batches.next()"
   ]
  },
  {
   "cell_type": "code",
   "execution_count": 5,
   "id": "8f4e3023",
   "metadata": {},
   "outputs": [],
   "source": [
    "# print (X_train.shape, y_train.shape)\n",
    "# print (X_val.shape, y_val.shape)\n",
    "# print (X_test.shape, y_test.shape)"
   ]
  },
  {
   "cell_type": "markdown",
   "id": "f47e02f7",
   "metadata": {},
   "source": [
    "### Modify MobileNet Model  (Transfer Learning)"
   ]
  },
  {
   "cell_type": "code",
   "execution_count": 6,
   "id": "8fbd4e37",
   "metadata": {},
   "outputs": [],
   "source": [
    "# create a copy of a mobilenet model\n",
    "\n",
    "mobile = tensorflow.keras.applications.mobilenet.MobileNet()"
   ]
  },
  {
   "cell_type": "code",
   "execution_count": 7,
   "id": "a28318b5",
   "metadata": {},
   "outputs": [
    {
     "name": "stdout",
     "output_type": "stream",
     "text": [
      "Model: \"mobilenet_1.00_224\"\n",
      "_________________________________________________________________\n",
      " Layer (type)                Output Shape              Param #   \n",
      "=================================================================\n",
      " input_1 (InputLayer)        [(None, 224, 224, 3)]     0         \n",
      "                                                                 \n",
      " conv1 (Conv2D)              (None, 112, 112, 32)      864       \n",
      "                                                                 \n",
      " conv1_bn (BatchNormalizatio  (None, 112, 112, 32)     128       \n",
      " n)                                                              \n",
      "                                                                 \n",
      " conv1_relu (ReLU)           (None, 112, 112, 32)      0         \n",
      "                                                                 \n",
      " conv_dw_1 (DepthwiseConv2D)  (None, 112, 112, 32)     288       \n",
      "                                                                 \n",
      " conv_dw_1_bn (BatchNormaliz  (None, 112, 112, 32)     128       \n",
      " ation)                                                          \n",
      "                                                                 \n",
      " conv_dw_1_relu (ReLU)       (None, 112, 112, 32)      0         \n",
      "                                                                 \n",
      " conv_pw_1 (Conv2D)          (None, 112, 112, 64)      2048      \n",
      "                                                                 \n",
      " conv_pw_1_bn (BatchNormaliz  (None, 112, 112, 64)     256       \n",
      " ation)                                                          \n",
      "                                                                 \n",
      " conv_pw_1_relu (ReLU)       (None, 112, 112, 64)      0         \n",
      "                                                                 \n",
      " conv_pad_2 (ZeroPadding2D)  (None, 113, 113, 64)      0         \n",
      "                                                                 \n",
      " conv_dw_2 (DepthwiseConv2D)  (None, 56, 56, 64)       576       \n",
      "                                                                 \n",
      " conv_dw_2_bn (BatchNormaliz  (None, 56, 56, 64)       256       \n",
      " ation)                                                          \n",
      "                                                                 \n",
      " conv_dw_2_relu (ReLU)       (None, 56, 56, 64)        0         \n",
      "                                                                 \n",
      " conv_pw_2 (Conv2D)          (None, 56, 56, 128)       8192      \n",
      "                                                                 \n",
      " conv_pw_2_bn (BatchNormaliz  (None, 56, 56, 128)      512       \n",
      " ation)                                                          \n",
      "                                                                 \n",
      " conv_pw_2_relu (ReLU)       (None, 56, 56, 128)       0         \n",
      "                                                                 \n",
      " conv_dw_3 (DepthwiseConv2D)  (None, 56, 56, 128)      1152      \n",
      "                                                                 \n",
      " conv_dw_3_bn (BatchNormaliz  (None, 56, 56, 128)      512       \n",
      " ation)                                                          \n",
      "                                                                 \n",
      " conv_dw_3_relu (ReLU)       (None, 56, 56, 128)       0         \n",
      "                                                                 \n",
      " conv_pw_3 (Conv2D)          (None, 56, 56, 128)       16384     \n",
      "                                                                 \n",
      " conv_pw_3_bn (BatchNormaliz  (None, 56, 56, 128)      512       \n",
      " ation)                                                          \n",
      "                                                                 \n",
      " conv_pw_3_relu (ReLU)       (None, 56, 56, 128)       0         \n",
      "                                                                 \n",
      " conv_pad_4 (ZeroPadding2D)  (None, 57, 57, 128)       0         \n",
      "                                                                 \n",
      " conv_dw_4 (DepthwiseConv2D)  (None, 28, 28, 128)      1152      \n",
      "                                                                 \n",
      " conv_dw_4_bn (BatchNormaliz  (None, 28, 28, 128)      512       \n",
      " ation)                                                          \n",
      "                                                                 \n",
      " conv_dw_4_relu (ReLU)       (None, 28, 28, 128)       0         \n",
      "                                                                 \n",
      " conv_pw_4 (Conv2D)          (None, 28, 28, 256)       32768     \n",
      "                                                                 \n",
      " conv_pw_4_bn (BatchNormaliz  (None, 28, 28, 256)      1024      \n",
      " ation)                                                          \n",
      "                                                                 \n",
      " conv_pw_4_relu (ReLU)       (None, 28, 28, 256)       0         \n",
      "                                                                 \n",
      " conv_dw_5 (DepthwiseConv2D)  (None, 28, 28, 256)      2304      \n",
      "                                                                 \n",
      " conv_dw_5_bn (BatchNormaliz  (None, 28, 28, 256)      1024      \n",
      " ation)                                                          \n",
      "                                                                 \n",
      " conv_dw_5_relu (ReLU)       (None, 28, 28, 256)       0         \n",
      "                                                                 \n",
      " conv_pw_5 (Conv2D)          (None, 28, 28, 256)       65536     \n",
      "                                                                 \n",
      " conv_pw_5_bn (BatchNormaliz  (None, 28, 28, 256)      1024      \n",
      " ation)                                                          \n",
      "                                                                 \n",
      " conv_pw_5_relu (ReLU)       (None, 28, 28, 256)       0         \n",
      "                                                                 \n",
      " conv_pad_6 (ZeroPadding2D)  (None, 29, 29, 256)       0         \n",
      "                                                                 \n",
      " conv_dw_6 (DepthwiseConv2D)  (None, 14, 14, 256)      2304      \n",
      "                                                                 \n",
      " conv_dw_6_bn (BatchNormaliz  (None, 14, 14, 256)      1024      \n",
      " ation)                                                          \n",
      "                                                                 \n",
      " conv_dw_6_relu (ReLU)       (None, 14, 14, 256)       0         \n",
      "                                                                 \n",
      " conv_pw_6 (Conv2D)          (None, 14, 14, 512)       131072    \n",
      "                                                                 \n",
      " conv_pw_6_bn (BatchNormaliz  (None, 14, 14, 512)      2048      \n",
      " ation)                                                          \n",
      "                                                                 \n",
      " conv_pw_6_relu (ReLU)       (None, 14, 14, 512)       0         \n",
      "                                                                 \n",
      " conv_dw_7 (DepthwiseConv2D)  (None, 14, 14, 512)      4608      \n",
      "                                                                 \n",
      " conv_dw_7_bn (BatchNormaliz  (None, 14, 14, 512)      2048      \n",
      " ation)                                                          \n",
      "                                                                 \n",
      " conv_dw_7_relu (ReLU)       (None, 14, 14, 512)       0         \n",
      "                                                                 \n",
      " conv_pw_7 (Conv2D)          (None, 14, 14, 512)       262144    \n",
      "                                                                 \n",
      " conv_pw_7_bn (BatchNormaliz  (None, 14, 14, 512)      2048      \n",
      " ation)                                                          \n",
      "                                                                 \n",
      " conv_pw_7_relu (ReLU)       (None, 14, 14, 512)       0         \n",
      "                                                                 \n",
      " conv_dw_8 (DepthwiseConv2D)  (None, 14, 14, 512)      4608      \n",
      "                                                                 \n",
      " conv_dw_8_bn (BatchNormaliz  (None, 14, 14, 512)      2048      \n",
      " ation)                                                          \n",
      "                                                                 \n",
      " conv_dw_8_relu (ReLU)       (None, 14, 14, 512)       0         \n",
      "                                                                 \n",
      " conv_pw_8 (Conv2D)          (None, 14, 14, 512)       262144    \n"
     ]
    },
    {
     "name": "stdout",
     "output_type": "stream",
     "text": [
      "                                                                 \n",
      " conv_pw_8_bn (BatchNormaliz  (None, 14, 14, 512)      2048      \n",
      " ation)                                                          \n",
      "                                                                 \n",
      " conv_pw_8_relu (ReLU)       (None, 14, 14, 512)       0         \n",
      "                                                                 \n",
      " conv_dw_9 (DepthwiseConv2D)  (None, 14, 14, 512)      4608      \n",
      "                                                                 \n",
      " conv_dw_9_bn (BatchNormaliz  (None, 14, 14, 512)      2048      \n",
      " ation)                                                          \n",
      "                                                                 \n",
      " conv_dw_9_relu (ReLU)       (None, 14, 14, 512)       0         \n",
      "                                                                 \n",
      " conv_pw_9 (Conv2D)          (None, 14, 14, 512)       262144    \n",
      "                                                                 \n",
      " conv_pw_9_bn (BatchNormaliz  (None, 14, 14, 512)      2048      \n",
      " ation)                                                          \n",
      "                                                                 \n",
      " conv_pw_9_relu (ReLU)       (None, 14, 14, 512)       0         \n",
      "                                                                 \n",
      " conv_dw_10 (DepthwiseConv2D  (None, 14, 14, 512)      4608      \n",
      " )                                                               \n",
      "                                                                 \n",
      " conv_dw_10_bn (BatchNormali  (None, 14, 14, 512)      2048      \n",
      " zation)                                                         \n",
      "                                                                 \n",
      " conv_dw_10_relu (ReLU)      (None, 14, 14, 512)       0         \n",
      "                                                                 \n",
      " conv_pw_10 (Conv2D)         (None, 14, 14, 512)       262144    \n",
      "                                                                 \n",
      " conv_pw_10_bn (BatchNormali  (None, 14, 14, 512)      2048      \n",
      " zation)                                                         \n",
      "                                                                 \n",
      " conv_pw_10_relu (ReLU)      (None, 14, 14, 512)       0         \n",
      "                                                                 \n",
      " conv_dw_11 (DepthwiseConv2D  (None, 14, 14, 512)      4608      \n",
      " )                                                               \n",
      "                                                                 \n",
      " conv_dw_11_bn (BatchNormali  (None, 14, 14, 512)      2048      \n",
      " zation)                                                         \n",
      "                                                                 \n",
      " conv_dw_11_relu (ReLU)      (None, 14, 14, 512)       0         \n",
      "                                                                 \n",
      " conv_pw_11 (Conv2D)         (None, 14, 14, 512)       262144    \n",
      "                                                                 \n",
      " conv_pw_11_bn (BatchNormali  (None, 14, 14, 512)      2048      \n",
      " zation)                                                         \n",
      "                                                                 \n",
      " conv_pw_11_relu (ReLU)      (None, 14, 14, 512)       0         \n",
      "                                                                 \n",
      " conv_pad_12 (ZeroPadding2D)  (None, 15, 15, 512)      0         \n",
      "                                                                 \n",
      " conv_dw_12 (DepthwiseConv2D  (None, 7, 7, 512)        4608      \n",
      " )                                                               \n",
      "                                                                 \n",
      " conv_dw_12_bn (BatchNormali  (None, 7, 7, 512)        2048      \n",
      " zation)                                                         \n",
      "                                                                 \n",
      " conv_dw_12_relu (ReLU)      (None, 7, 7, 512)         0         \n",
      "                                                                 \n",
      " conv_pw_12 (Conv2D)         (None, 7, 7, 1024)        524288    \n",
      "                                                                 \n",
      " conv_pw_12_bn (BatchNormali  (None, 7, 7, 1024)       4096      \n",
      " zation)                                                         \n",
      "                                                                 \n",
      " conv_pw_12_relu (ReLU)      (None, 7, 7, 1024)        0         \n",
      "                                                                 \n",
      " conv_dw_13 (DepthwiseConv2D  (None, 7, 7, 1024)       9216      \n",
      " )                                                               \n",
      "                                                                 \n",
      " conv_dw_13_bn (BatchNormali  (None, 7, 7, 1024)       4096      \n",
      " zation)                                                         \n",
      "                                                                 \n",
      " conv_dw_13_relu (ReLU)      (None, 7, 7, 1024)        0         \n",
      "                                                                 \n",
      " conv_pw_13 (Conv2D)         (None, 7, 7, 1024)        1048576   \n",
      "                                                                 \n",
      " conv_pw_13_bn (BatchNormali  (None, 7, 7, 1024)       4096      \n",
      " zation)                                                         \n",
      "                                                                 \n",
      " conv_pw_13_relu (ReLU)      (None, 7, 7, 1024)        0         \n",
      "                                                                 \n",
      " global_average_pooling2d (G  (None, 1, 1, 1024)       0         \n",
      " lobalAveragePooling2D)                                          \n",
      "                                                                 \n",
      " dropout (Dropout)           (None, 1, 1, 1024)        0         \n",
      "                                                                 \n",
      " conv_preds (Conv2D)         (None, 1, 1, 1000)        1025000   \n",
      "                                                                 \n",
      " reshape_2 (Reshape)         (None, 1000)              0         \n",
      "                                                                 \n",
      " predictions (Activation)    (None, 1000)              0         \n",
      "                                                                 \n",
      "=================================================================\n",
      "Total params: 4,253,864\n",
      "Trainable params: 4,231,976\n",
      "Non-trainable params: 21,888\n",
      "_________________________________________________________________\n"
     ]
    }
   ],
   "source": [
    "mobile.summary()"
   ]
  },
  {
   "cell_type": "code",
   "execution_count": 8,
   "id": "673a387e",
   "metadata": {},
   "outputs": [
    {
     "data": {
      "text/plain": [
       "list"
      ]
     },
     "execution_count": 8,
     "metadata": {},
     "output_type": "execute_result"
    }
   ],
   "source": [
    "type(mobile.layers)"
   ]
  },
  {
   "cell_type": "code",
   "execution_count": 9,
   "id": "a25ca659",
   "metadata": {},
   "outputs": [
    {
     "data": {
      "text/plain": [
       "91"
      ]
     },
     "execution_count": 9,
     "metadata": {},
     "output_type": "execute_result"
    }
   ],
   "source": [
    "# How many layers do mobile have \n",
    "len(mobile.layers)"
   ]
  },
  {
   "cell_type": "code",
   "execution_count": 10,
   "id": "c66e38c5",
   "metadata": {},
   "outputs": [],
   "source": [
    "# CREATE THE MODEL ARCHITECTURE\n",
    "\n",
    "# Exclude the last 5 layers of the above model.\n",
    "# This will include all layers up to and including global_average_pooling2d_1\n",
    "x = mobile.layers[-1].output\n",
    "\n",
    "# Create a new dense layer for predictions\n",
    "# 7 corresponds to the number of classes\n",
    "# x = Dropout(0.25)(x)\n",
    "predictions = Dense(7, activation='softmax')(x)\n",
    "\n",
    "# inputs=mobile.input selects the input layer, outputs=predictions refers to the\n",
    "# dense layer we created above.\n",
    "\n",
    "model = Model(inputs=mobile.input, outputs=predictions)"
   ]
  },
  {
   "cell_type": "code",
   "execution_count": 11,
   "id": "1193d0d6",
   "metadata": {},
   "outputs": [
    {
     "data": {
      "text/plain": [
       "<KerasTensor: shape=(None, 7) dtype=float32 (created by layer 'dense')>"
      ]
     },
     "execution_count": 11,
     "metadata": {},
     "output_type": "execute_result"
    }
   ],
   "source": [
    "predictions"
   ]
  },
  {
   "cell_type": "code",
   "execution_count": 12,
   "id": "007fbd9b",
   "metadata": {},
   "outputs": [
    {
     "name": "stdout",
     "output_type": "stream",
     "text": [
      "Model: \"model\"\n",
      "_________________________________________________________________\n",
      " Layer (type)                Output Shape              Param #   \n",
      "=================================================================\n",
      " input_1 (InputLayer)        [(None, 224, 224, 3)]     0         \n",
      "                                                                 \n",
      " conv1 (Conv2D)              (None, 112, 112, 32)      864       \n",
      "                                                                 \n",
      " conv1_bn (BatchNormalizatio  (None, 112, 112, 32)     128       \n",
      " n)                                                              \n",
      "                                                                 \n",
      " conv1_relu (ReLU)           (None, 112, 112, 32)      0         \n",
      "                                                                 \n",
      " conv_dw_1 (DepthwiseConv2D)  (None, 112, 112, 32)     288       \n",
      "                                                                 \n",
      " conv_dw_1_bn (BatchNormaliz  (None, 112, 112, 32)     128       \n",
      " ation)                                                          \n",
      "                                                                 \n",
      " conv_dw_1_relu (ReLU)       (None, 112, 112, 32)      0         \n",
      "                                                                 \n",
      " conv_pw_1 (Conv2D)          (None, 112, 112, 64)      2048      \n",
      "                                                                 \n",
      " conv_pw_1_bn (BatchNormaliz  (None, 112, 112, 64)     256       \n",
      " ation)                                                          \n",
      "                                                                 \n",
      " conv_pw_1_relu (ReLU)       (None, 112, 112, 64)      0         \n",
      "                                                                 \n",
      " conv_pad_2 (ZeroPadding2D)  (None, 113, 113, 64)      0         \n",
      "                                                                 \n",
      " conv_dw_2 (DepthwiseConv2D)  (None, 56, 56, 64)       576       \n",
      "                                                                 \n",
      " conv_dw_2_bn (BatchNormaliz  (None, 56, 56, 64)       256       \n",
      " ation)                                                          \n",
      "                                                                 \n",
      " conv_dw_2_relu (ReLU)       (None, 56, 56, 64)        0         \n",
      "                                                                 \n",
      " conv_pw_2 (Conv2D)          (None, 56, 56, 128)       8192      \n",
      "                                                                 \n",
      " conv_pw_2_bn (BatchNormaliz  (None, 56, 56, 128)      512       \n",
      " ation)                                                          \n",
      "                                                                 \n",
      " conv_pw_2_relu (ReLU)       (None, 56, 56, 128)       0         \n",
      "                                                                 \n",
      " conv_dw_3 (DepthwiseConv2D)  (None, 56, 56, 128)      1152      \n",
      "                                                                 \n",
      " conv_dw_3_bn (BatchNormaliz  (None, 56, 56, 128)      512       \n",
      " ation)                                                          \n",
      "                                                                 \n",
      " conv_dw_3_relu (ReLU)       (None, 56, 56, 128)       0         \n",
      "                                                                 \n",
      " conv_pw_3 (Conv2D)          (None, 56, 56, 128)       16384     \n",
      "                                                                 \n",
      " conv_pw_3_bn (BatchNormaliz  (None, 56, 56, 128)      512       \n",
      " ation)                                                          \n",
      "                                                                 \n",
      " conv_pw_3_relu (ReLU)       (None, 56, 56, 128)       0         \n",
      "                                                                 \n",
      " conv_pad_4 (ZeroPadding2D)  (None, 57, 57, 128)       0         \n",
      "                                                                 \n",
      " conv_dw_4 (DepthwiseConv2D)  (None, 28, 28, 128)      1152      \n",
      "                                                                 \n",
      " conv_dw_4_bn (BatchNormaliz  (None, 28, 28, 128)      512       \n",
      " ation)                                                          \n",
      "                                                                 \n",
      " conv_dw_4_relu (ReLU)       (None, 28, 28, 128)       0         \n",
      "                                                                 \n",
      " conv_pw_4 (Conv2D)          (None, 28, 28, 256)       32768     \n",
      "                                                                 \n",
      " conv_pw_4_bn (BatchNormaliz  (None, 28, 28, 256)      1024      \n",
      " ation)                                                          \n",
      "                                                                 \n",
      " conv_pw_4_relu (ReLU)       (None, 28, 28, 256)       0         \n",
      "                                                                 \n",
      " conv_dw_5 (DepthwiseConv2D)  (None, 28, 28, 256)      2304      \n",
      "                                                                 \n",
      " conv_dw_5_bn (BatchNormaliz  (None, 28, 28, 256)      1024      \n",
      " ation)                                                          \n",
      "                                                                 \n",
      " conv_dw_5_relu (ReLU)       (None, 28, 28, 256)       0         \n",
      "                                                                 \n",
      " conv_pw_5 (Conv2D)          (None, 28, 28, 256)       65536     \n",
      "                                                                 \n",
      " conv_pw_5_bn (BatchNormaliz  (None, 28, 28, 256)      1024      \n",
      " ation)                                                          \n",
      "                                                                 \n",
      " conv_pw_5_relu (ReLU)       (None, 28, 28, 256)       0         \n",
      "                                                                 \n",
      " conv_pad_6 (ZeroPadding2D)  (None, 29, 29, 256)       0         \n",
      "                                                                 \n",
      " conv_dw_6 (DepthwiseConv2D)  (None, 14, 14, 256)      2304      \n",
      "                                                                 \n",
      " conv_dw_6_bn (BatchNormaliz  (None, 14, 14, 256)      1024      \n",
      " ation)                                                          \n",
      "                                                                 \n",
      " conv_dw_6_relu (ReLU)       (None, 14, 14, 256)       0         \n",
      "                                                                 \n",
      " conv_pw_6 (Conv2D)          (None, 14, 14, 512)       131072    \n",
      "                                                                 \n",
      " conv_pw_6_bn (BatchNormaliz  (None, 14, 14, 512)      2048      \n",
      " ation)                                                          \n",
      "                                                                 \n",
      " conv_pw_6_relu (ReLU)       (None, 14, 14, 512)       0         \n",
      "                                                                 \n",
      " conv_dw_7 (DepthwiseConv2D)  (None, 14, 14, 512)      4608      \n",
      "                                                                 \n",
      " conv_dw_7_bn (BatchNormaliz  (None, 14, 14, 512)      2048      \n",
      " ation)                                                          \n",
      "                                                                 \n",
      " conv_dw_7_relu (ReLU)       (None, 14, 14, 512)       0         \n",
      "                                                                 \n",
      " conv_pw_7 (Conv2D)          (None, 14, 14, 512)       262144    \n",
      "                                                                 \n",
      " conv_pw_7_bn (BatchNormaliz  (None, 14, 14, 512)      2048      \n",
      " ation)                                                          \n",
      "                                                                 \n",
      " conv_pw_7_relu (ReLU)       (None, 14, 14, 512)       0         \n",
      "                                                                 \n",
      " conv_dw_8 (DepthwiseConv2D)  (None, 14, 14, 512)      4608      \n",
      "                                                                 \n",
      " conv_dw_8_bn (BatchNormaliz  (None, 14, 14, 512)      2048      \n",
      " ation)                                                          \n",
      "                                                                 \n",
      " conv_dw_8_relu (ReLU)       (None, 14, 14, 512)       0         \n",
      "                                                                 \n",
      " conv_pw_8 (Conv2D)          (None, 14, 14, 512)       262144    \n"
     ]
    },
    {
     "name": "stdout",
     "output_type": "stream",
     "text": [
      "                                                                 \n",
      " conv_pw_8_bn (BatchNormaliz  (None, 14, 14, 512)      2048      \n",
      " ation)                                                          \n",
      "                                                                 \n",
      " conv_pw_8_relu (ReLU)       (None, 14, 14, 512)       0         \n",
      "                                                                 \n",
      " conv_dw_9 (DepthwiseConv2D)  (None, 14, 14, 512)      4608      \n",
      "                                                                 \n",
      " conv_dw_9_bn (BatchNormaliz  (None, 14, 14, 512)      2048      \n",
      " ation)                                                          \n",
      "                                                                 \n",
      " conv_dw_9_relu (ReLU)       (None, 14, 14, 512)       0         \n",
      "                                                                 \n",
      " conv_pw_9 (Conv2D)          (None, 14, 14, 512)       262144    \n",
      "                                                                 \n",
      " conv_pw_9_bn (BatchNormaliz  (None, 14, 14, 512)      2048      \n",
      " ation)                                                          \n",
      "                                                                 \n",
      " conv_pw_9_relu (ReLU)       (None, 14, 14, 512)       0         \n",
      "                                                                 \n",
      " conv_dw_10 (DepthwiseConv2D  (None, 14, 14, 512)      4608      \n",
      " )                                                               \n",
      "                                                                 \n",
      " conv_dw_10_bn (BatchNormali  (None, 14, 14, 512)      2048      \n",
      " zation)                                                         \n",
      "                                                                 \n",
      " conv_dw_10_relu (ReLU)      (None, 14, 14, 512)       0         \n",
      "                                                                 \n",
      " conv_pw_10 (Conv2D)         (None, 14, 14, 512)       262144    \n",
      "                                                                 \n",
      " conv_pw_10_bn (BatchNormali  (None, 14, 14, 512)      2048      \n",
      " zation)                                                         \n",
      "                                                                 \n",
      " conv_pw_10_relu (ReLU)      (None, 14, 14, 512)       0         \n",
      "                                                                 \n",
      " conv_dw_11 (DepthwiseConv2D  (None, 14, 14, 512)      4608      \n",
      " )                                                               \n",
      "                                                                 \n",
      " conv_dw_11_bn (BatchNormali  (None, 14, 14, 512)      2048      \n",
      " zation)                                                         \n",
      "                                                                 \n",
      " conv_dw_11_relu (ReLU)      (None, 14, 14, 512)       0         \n",
      "                                                                 \n",
      " conv_pw_11 (Conv2D)         (None, 14, 14, 512)       262144    \n",
      "                                                                 \n",
      " conv_pw_11_bn (BatchNormali  (None, 14, 14, 512)      2048      \n",
      " zation)                                                         \n",
      "                                                                 \n",
      " conv_pw_11_relu (ReLU)      (None, 14, 14, 512)       0         \n",
      "                                                                 \n",
      " conv_pad_12 (ZeroPadding2D)  (None, 15, 15, 512)      0         \n",
      "                                                                 \n",
      " conv_dw_12 (DepthwiseConv2D  (None, 7, 7, 512)        4608      \n",
      " )                                                               \n",
      "                                                                 \n",
      " conv_dw_12_bn (BatchNormali  (None, 7, 7, 512)        2048      \n",
      " zation)                                                         \n",
      "                                                                 \n",
      " conv_dw_12_relu (ReLU)      (None, 7, 7, 512)         0         \n",
      "                                                                 \n",
      " conv_pw_12 (Conv2D)         (None, 7, 7, 1024)        524288    \n",
      "                                                                 \n",
      " conv_pw_12_bn (BatchNormali  (None, 7, 7, 1024)       4096      \n",
      " zation)                                                         \n",
      "                                                                 \n",
      " conv_pw_12_relu (ReLU)      (None, 7, 7, 1024)        0         \n",
      "                                                                 \n",
      " conv_dw_13 (DepthwiseConv2D  (None, 7, 7, 1024)       9216      \n",
      " )                                                               \n",
      "                                                                 \n",
      " conv_dw_13_bn (BatchNormali  (None, 7, 7, 1024)       4096      \n",
      " zation)                                                         \n",
      "                                                                 \n",
      " conv_dw_13_relu (ReLU)      (None, 7, 7, 1024)        0         \n",
      "                                                                 \n",
      " conv_pw_13 (Conv2D)         (None, 7, 7, 1024)        1048576   \n",
      "                                                                 \n",
      " conv_pw_13_bn (BatchNormali  (None, 7, 7, 1024)       4096      \n",
      " zation)                                                         \n",
      "                                                                 \n",
      " conv_pw_13_relu (ReLU)      (None, 7, 7, 1024)        0         \n",
      "                                                                 \n",
      " global_average_pooling2d (G  (None, 1, 1, 1024)       0         \n",
      " lobalAveragePooling2D)                                          \n",
      "                                                                 \n",
      " dropout (Dropout)           (None, 1, 1, 1024)        0         \n",
      "                                                                 \n",
      " conv_preds (Conv2D)         (None, 1, 1, 1000)        1025000   \n",
      "                                                                 \n",
      " reshape_2 (Reshape)         (None, 1000)              0         \n",
      "                                                                 \n",
      " predictions (Activation)    (None, 1000)              0         \n",
      "                                                                 \n",
      " dense (Dense)               (None, 7)                 7007      \n",
      "                                                                 \n",
      "=================================================================\n",
      "Total params: 4,260,871\n",
      "Trainable params: 4,238,983\n",
      "Non-trainable params: 21,888\n",
      "_________________________________________________________________\n"
     ]
    }
   ],
   "source": [
    "model.summary()"
   ]
  },
  {
   "cell_type": "code",
   "execution_count": 13,
   "id": "ee7801ad",
   "metadata": {},
   "outputs": [],
   "source": [
    "# We need to choose how many layers we actually want to be trained.\n",
    "\n",
    "# Here we are freezing the weights of all layers except the\n",
    "# last 23 layers in the new model.\n",
    "# The last 23 layers of the model will be trained.\n",
    "\n",
    "for layer in model.layers[:-23]:\n",
    "    layer.trainable = False"
   ]
  },
  {
   "cell_type": "markdown",
   "id": "bebbac7e",
   "metadata": {},
   "source": [
    "### Model Training"
   ]
  },
  {
   "cell_type": "code",
   "execution_count": 14,
   "id": "42617a27",
   "metadata": {},
   "outputs": [],
   "source": [
    "# Define Top2 and Top3 Accuracy\n",
    "\n",
    "from tensorflow.keras.metrics import categorical_accuracy, top_k_categorical_accuracy\n",
    "\n",
    "def top_3_accuracy(y_true, y_pred):\n",
    "    return top_k_categorical_accuracy(y_true, y_pred, k=3)\n",
    "\n",
    "def top_2_accuracy(y_true, y_pred):\n",
    "    return top_k_categorical_accuracy(y_true, y_pred, k=2)"
   ]
  },
  {
   "cell_type": "code",
   "execution_count": 15,
   "id": "b0ac8ec1",
   "metadata": {},
   "outputs": [],
   "source": [
    "model.compile(Adam(learning_rate=0.01), loss='categorical_crossentropy', \n",
    "              metrics=[categorical_accuracy, top_2_accuracy, top_3_accuracy])\n"
   ]
  },
  {
   "cell_type": "code",
   "execution_count": 16,
   "id": "a4c86f65",
   "metadata": {},
   "outputs": [
    {
     "name": "stdout",
     "output_type": "stream",
     "text": [
      "{'akiec': 0, 'bcc': 1, 'bkl': 2, 'df': 3, 'mel': 4, 'nv': 5, 'vasc': 6}\n"
     ]
    }
   ],
   "source": [
    "# Get the labels that are associated with each index\n",
    "print(valid_batches.class_indices)"
   ]
  },
  {
   "cell_type": "code",
   "execution_count": 17,
   "id": "2026073d",
   "metadata": {},
   "outputs": [],
   "source": [
    "# Add weights to try to make the model more sensitive to melanoma\n",
    "\n",
    "class_weights={\n",
    "    0: 1.0, # akiec\n",
    "    1: 1.0, # bcc\n",
    "    2: 1.0, # bkl\n",
    "    3: 1.0, # df\n",
    "    4: 1.5, # mel # Try to make the model more sensitive to Melanoma.\n",
    "    5: 1.0, # nv\n",
    "    6: 1.0, # vasc\n",
    "}"
   ]
  },
  {
   "cell_type": "code",
   "execution_count": 18,
   "id": "34947ba9",
   "metadata": {},
   "outputs": [],
   "source": [
    "filepath = \"model_v2.h5\"\n",
    "checkpoint = ModelCheckpoint(filepath, monitor='val_top_3_accuracy', verbose=1, \n",
    "                             save_best_only=True, mode='max')\n",
    "\n",
    "reduce_lr = ReduceLROnPlateau(monitor='val_top_3_accuracy', factor=0.5, patience=2, \n",
    "                                   verbose=1, mode='max', min_lr=0.0001)\n",
    "                              \n",
    "                              \n",
    "callbacks_list = [checkpoint, reduce_lr]"
   ]
  },
  {
   "cell_type": "code",
   "execution_count": null,
   "id": "33351b2a",
   "metadata": {},
   "outputs": [],
   "source": []
  },
  {
   "cell_type": "code",
   "execution_count": 19,
   "id": "9f36e9a2",
   "metadata": {},
   "outputs": [],
   "source": [
    "# history = model.fit(X_train, y_train, steps_per_epoch=train_steps, \n",
    "#                     class_weight=class_weights,\n",
    "#                     validation_data=(X_val, y_val),\n",
    "#                     validation_steps=val_steps,\n",
    "#                     batch_size=train_batch_size,\n",
    "#                     epochs=30, verbose=1,\n",
    "#                    callbacks = callbacks_list)"
   ]
  },
  {
   "cell_type": "code",
   "execution_count": 20,
   "id": "775a4cbc",
   "metadata": {},
   "outputs": [
    {
     "name": "stdout",
     "output_type": "stream",
     "text": [
      "Epoch 1/30\n",
      "461/461 [==============================] - ETA: 0s - loss: 1.8806 - categorical_accuracy: 0.2919 - top_2_accuracy: 0.4726 - top_3_accuracy: 0.6364\n",
      "Epoch 1: val_top_3_accuracy improved from -inf to 0.70197, saving model to model_v2.h5\n",
      "461/461 [==============================] - 147s 314ms/step - loss: 1.8806 - categorical_accuracy: 0.2919 - top_2_accuracy: 0.4726 - top_3_accuracy: 0.6364 - val_loss: 1.7836 - val_categorical_accuracy: 0.3202 - val_top_2_accuracy: 0.5788 - val_top_3_accuracy: 0.7020 - lr: 0.0100\n",
      "Epoch 2/30\n",
      "461/461 [==============================] - ETA: 0s - loss: 1.7677 - categorical_accuracy: 0.3102 - top_2_accuracy: 0.5106 - top_3_accuracy: 0.6555\n",
      "Epoch 2: val_top_3_accuracy improved from 0.70197 to 0.75862, saving model to model_v2.h5\n",
      "461/461 [==============================] - 146s 318ms/step - loss: 1.7677 - categorical_accuracy: 0.3102 - top_2_accuracy: 0.5106 - top_3_accuracy: 0.6555 - val_loss: 1.6402 - val_categorical_accuracy: 0.3571 - val_top_2_accuracy: 0.6010 - val_top_3_accuracy: 0.7586 - lr: 0.0100\n",
      "Epoch 3/30\n",
      "461/461 [==============================] - ETA: 0s - loss: 1.7612 - categorical_accuracy: 0.3093 - top_2_accuracy: 0.5028 - top_3_accuracy: 0.6623\n",
      "Epoch 3: val_top_3_accuracy did not improve from 0.75862\n",
      "461/461 [==============================] - 145s 315ms/step - loss: 1.7612 - categorical_accuracy: 0.3093 - top_2_accuracy: 0.5028 - top_3_accuracy: 0.6623 - val_loss: 1.9186 - val_categorical_accuracy: 0.1970 - val_top_2_accuracy: 0.4163 - val_top_3_accuracy: 0.5591 - lr: 0.0100\n",
      "Epoch 4/30\n",
      "461/461 [==============================] - ETA: 0s - loss: 1.7659 - categorical_accuracy: 0.3113 - top_2_accuracy: 0.4961 - top_3_accuracy: 0.6570\n",
      "Epoch 4: val_top_3_accuracy did not improve from 0.75862\n",
      "\n",
      "Epoch 4: ReduceLROnPlateau reducing learning rate to 0.004999999888241291.\n",
      "461/461 [==============================] - 145s 314ms/step - loss: 1.7659 - categorical_accuracy: 0.3113 - top_2_accuracy: 0.4961 - top_3_accuracy: 0.6570 - val_loss: 1.8024 - val_categorical_accuracy: 0.3424 - val_top_2_accuracy: 0.5764 - val_top_3_accuracy: 0.7315 - lr: 0.0100\n",
      "Epoch 5/30\n",
      "461/461 [==============================] - ETA: 0s - loss: 1.7223 - categorical_accuracy: 0.3360 - top_2_accuracy: 0.5193 - top_3_accuracy: 0.6855\n",
      "Epoch 5: val_top_3_accuracy improved from 0.75862 to 0.77833, saving model to model_v2.h5\n",
      "461/461 [==============================] - 144s 311ms/step - loss: 1.7223 - categorical_accuracy: 0.3360 - top_2_accuracy: 0.5193 - top_3_accuracy: 0.6855 - val_loss: 1.5125 - val_categorical_accuracy: 0.3719 - val_top_2_accuracy: 0.5739 - val_top_3_accuracy: 0.7783 - lr: 0.0050\n",
      "Epoch 6/30\n",
      "461/461 [==============================] - ETA: 0s - loss: 1.6634 - categorical_accuracy: 0.3697 - top_2_accuracy: 0.5745 - top_3_accuracy: 0.7417\n",
      "Epoch 6: val_top_3_accuracy did not improve from 0.77833\n",
      "461/461 [==============================] - 143s 311ms/step - loss: 1.6634 - categorical_accuracy: 0.3697 - top_2_accuracy: 0.5745 - top_3_accuracy: 0.7417 - val_loss: 1.6878 - val_categorical_accuracy: 0.3177 - val_top_2_accuracy: 0.5369 - val_top_3_accuracy: 0.6847 - lr: 0.0050\n",
      "Epoch 7/30\n",
      "461/461 [==============================] - ETA: 0s - loss: 1.6773 - categorical_accuracy: 0.3619 - top_2_accuracy: 0.5667 - top_3_accuracy: 0.7261\n",
      "Epoch 7: val_top_3_accuracy did not improve from 0.77833\n",
      "\n",
      "Epoch 7: ReduceLROnPlateau reducing learning rate to 0.0024999999441206455.\n",
      "461/461 [==============================] - 142s 308ms/step - loss: 1.6773 - categorical_accuracy: 0.3619 - top_2_accuracy: 0.5667 - top_3_accuracy: 0.7261 - val_loss: 1.8546 - val_categorical_accuracy: 0.2956 - val_top_2_accuracy: 0.5148 - val_top_3_accuracy: 0.7044 - lr: 0.0050\n",
      "Epoch 8/30\n",
      "461/461 [==============================] - ETA: 0s - loss: 1.6500 - categorical_accuracy: 0.3682 - top_2_accuracy: 0.5658 - top_3_accuracy: 0.7268\n",
      "Epoch 8: val_top_3_accuracy did not improve from 0.77833\n",
      "461/461 [==============================] - 142s 309ms/step - loss: 1.6500 - categorical_accuracy: 0.3682 - top_2_accuracy: 0.5658 - top_3_accuracy: 0.7268 - val_loss: 1.4932 - val_categorical_accuracy: 0.3768 - val_top_2_accuracy: 0.6133 - val_top_3_accuracy: 0.7635 - lr: 0.0025\n",
      "Epoch 9/30\n",
      "461/461 [==============================] - ETA: 0s - loss: 1.6432 - categorical_accuracy: 0.3703 - top_2_accuracy: 0.5765 - top_3_accuracy: 0.7411\n",
      "Epoch 9: val_top_3_accuracy did not improve from 0.77833\n",
      "\n",
      "Epoch 9: ReduceLROnPlateau reducing learning rate to 0.0012499999720603228.\n",
      "461/461 [==============================] - 142s 309ms/step - loss: 1.6432 - categorical_accuracy: 0.3703 - top_2_accuracy: 0.5765 - top_3_accuracy: 0.7411 - val_loss: 1.6416 - val_categorical_accuracy: 0.3300 - val_top_2_accuracy: 0.5665 - val_top_3_accuracy: 0.7463 - lr: 0.0025\n",
      "Epoch 10/30\n",
      "461/461 [==============================] - ETA: 0s - loss: 1.6494 - categorical_accuracy: 0.3660 - top_2_accuracy: 0.5745 - top_3_accuracy: 0.7372\n",
      "Epoch 10: val_top_3_accuracy did not improve from 0.77833\n",
      "461/461 [==============================] - 141s 307ms/step - loss: 1.6494 - categorical_accuracy: 0.3660 - top_2_accuracy: 0.5745 - top_3_accuracy: 0.7372 - val_loss: 1.5405 - val_categorical_accuracy: 0.3522 - val_top_2_accuracy: 0.5887 - val_top_3_accuracy: 0.7709 - lr: 0.0012\n",
      "Epoch 11/30\n",
      "461/461 [==============================] - ETA: 0s - loss: 1.6438 - categorical_accuracy: 0.3719 - top_2_accuracy: 0.5828 - top_3_accuracy: 0.7550\n",
      "Epoch 11: val_top_3_accuracy improved from 0.77833 to 0.78818, saving model to model_v2.h5\n",
      "461/461 [==============================] - 141s 307ms/step - loss: 1.6438 - categorical_accuracy: 0.3719 - top_2_accuracy: 0.5828 - top_3_accuracy: 0.7550 - val_loss: 1.5237 - val_categorical_accuracy: 0.3645 - val_top_2_accuracy: 0.6158 - val_top_3_accuracy: 0.7882 - lr: 0.0012\n",
      "Epoch 12/30\n",
      "461/461 [==============================] - ETA: 0s - loss: 1.6246 - categorical_accuracy: 0.3773 - top_2_accuracy: 0.5877 - top_3_accuracy: 0.7556\n",
      "Epoch 12: val_top_3_accuracy did not improve from 0.78818\n",
      "461/461 [==============================] - 142s 307ms/step - loss: 1.6246 - categorical_accuracy: 0.3773 - top_2_accuracy: 0.5877 - top_3_accuracy: 0.7556 - val_loss: 1.4845 - val_categorical_accuracy: 0.3719 - val_top_2_accuracy: 0.6084 - val_top_3_accuracy: 0.7759 - lr: 0.0012\n",
      "Epoch 13/30\n",
      "461/461 [==============================] - ETA: 0s - loss: 1.6263 - categorical_accuracy: 0.3781 - top_2_accuracy: 0.5788 - top_3_accuracy: 0.7472\n",
      "Epoch 13: val_top_3_accuracy did not improve from 0.78818\n",
      "\n",
      "Epoch 13: ReduceLROnPlateau reducing learning rate to 0.0006249999860301614.\n",
      "461/461 [==============================] - 141s 306ms/step - loss: 1.6263 - categorical_accuracy: 0.3781 - top_2_accuracy: 0.5788 - top_3_accuracy: 0.7472 - val_loss: 1.5314 - val_categorical_accuracy: 0.3621 - val_top_2_accuracy: 0.6084 - val_top_3_accuracy: 0.7857 - lr: 0.0012\n",
      "Epoch 14/30\n",
      "461/461 [==============================] - ETA: 0s - loss: 1.6078 - categorical_accuracy: 0.3886 - top_2_accuracy: 0.5921 - top_3_accuracy: 0.7574\n",
      "Epoch 14: val_top_3_accuracy did not improve from 0.78818\n",
      "461/461 [==============================] - 145s 315ms/step - loss: 1.6078 - categorical_accuracy: 0.3886 - top_2_accuracy: 0.5921 - top_3_accuracy: 0.7574 - val_loss: 1.5305 - val_categorical_accuracy: 0.3621 - val_top_2_accuracy: 0.6010 - val_top_3_accuracy: 0.7783 - lr: 6.2500e-04\n",
      "Epoch 15/30\n",
      "461/461 [==============================] - ETA: 0s - loss: 1.6137 - categorical_accuracy: 0.3855 - top_2_accuracy: 0.5919 - top_3_accuracy: 0.7646\n",
      "Epoch 15: val_top_3_accuracy did not improve from 0.78818\n",
      "\n",
      "Epoch 15: ReduceLROnPlateau reducing learning rate to 0.0003124999930150807.\n",
      "461/461 [==============================] - 143s 311ms/step - loss: 1.6137 - categorical_accuracy: 0.3855 - top_2_accuracy: 0.5919 - top_3_accuracy: 0.7646 - val_loss: 1.5037 - val_categorical_accuracy: 0.3719 - val_top_2_accuracy: 0.6133 - val_top_3_accuracy: 0.7882 - lr: 6.2500e-04\n",
      "Epoch 16/30\n",
      "461/461 [==============================] - ETA: 0s - loss: 1.5927 - categorical_accuracy: 0.3977 - top_2_accuracy: 0.6045 - top_3_accuracy: 0.7663\n",
      "Epoch 16: val_top_3_accuracy improved from 0.78818 to 0.79064, saving model to model_v2.h5\n"
     ]
    },
    {
     "name": "stdout",
     "output_type": "stream",
     "text": [
      "461/461 [==============================] - 143s 310ms/step - loss: 1.5927 - categorical_accuracy: 0.3977 - top_2_accuracy: 0.6045 - top_3_accuracy: 0.7663 - val_loss: 1.5089 - val_categorical_accuracy: 0.3719 - val_top_2_accuracy: 0.6158 - val_top_3_accuracy: 0.7906 - lr: 3.1250e-04\n",
      "Epoch 17/30\n",
      "461/461 [==============================] - ETA: 0s - loss: 1.5968 - categorical_accuracy: 0.3960 - top_2_accuracy: 0.6049 - top_3_accuracy: 0.7676\n",
      "Epoch 17: val_top_3_accuracy did not improve from 0.79064\n",
      "461/461 [==============================] - 147s 319ms/step - loss: 1.5968 - categorical_accuracy: 0.3960 - top_2_accuracy: 0.6049 - top_3_accuracy: 0.7676 - val_loss: 1.5032 - val_categorical_accuracy: 0.3719 - val_top_2_accuracy: 0.6108 - val_top_3_accuracy: 0.7808 - lr: 3.1250e-04\n",
      "Epoch 18/30\n",
      "461/461 [==============================] - ETA: 0s - loss: 1.5938 - categorical_accuracy: 0.3994 - top_2_accuracy: 0.6056 - top_3_accuracy: 0.7626\n",
      "Epoch 18: val_top_3_accuracy did not improve from 0.79064\n",
      "\n",
      "Epoch 18: ReduceLROnPlateau reducing learning rate to 0.00015624999650754035.\n",
      "461/461 [==============================] - 150s 325ms/step - loss: 1.5938 - categorical_accuracy: 0.3994 - top_2_accuracy: 0.6056 - top_3_accuracy: 0.7626 - val_loss: 1.5107 - val_categorical_accuracy: 0.3719 - val_top_2_accuracy: 0.6158 - val_top_3_accuracy: 0.7906 - lr: 3.1250e-04\n",
      "Epoch 19/30\n",
      "461/461 [==============================] - ETA: 0s - loss: 1.5985 - categorical_accuracy: 0.4016 - top_2_accuracy: 0.6045 - top_3_accuracy: 0.7637\n",
      "Epoch 19: val_top_3_accuracy did not improve from 0.79064\n",
      "461/461 [==============================] - 146s 317ms/step - loss: 1.5985 - categorical_accuracy: 0.4016 - top_2_accuracy: 0.6045 - top_3_accuracy: 0.7637 - val_loss: 1.5043 - val_categorical_accuracy: 0.3719 - val_top_2_accuracy: 0.6158 - val_top_3_accuracy: 0.7882 - lr: 1.5625e-04\n",
      "Epoch 20/30\n",
      "461/461 [==============================] - ETA: 0s - loss: 1.5852 - categorical_accuracy: 0.3999 - top_2_accuracy: 0.6079 - top_3_accuracy: 0.7665\n",
      "Epoch 20: val_top_3_accuracy did not improve from 0.79064\n",
      "\n",
      "Epoch 20: ReduceLROnPlateau reducing learning rate to 0.0001.\n",
      "461/461 [==============================] - 149s 322ms/step - loss: 1.5852 - categorical_accuracy: 0.3999 - top_2_accuracy: 0.6079 - top_3_accuracy: 0.7665 - val_loss: 1.4951 - val_categorical_accuracy: 0.3719 - val_top_2_accuracy: 0.6158 - val_top_3_accuracy: 0.7857 - lr: 1.5625e-04\n",
      "Epoch 21/30\n",
      "461/461 [==============================] - ETA: 0s - loss: 1.5916 - categorical_accuracy: 0.3936 - top_2_accuracy: 0.6019 - top_3_accuracy: 0.7635\n",
      "Epoch 21: val_top_3_accuracy did not improve from 0.79064\n",
      "461/461 [==============================] - 144s 313ms/step - loss: 1.5916 - categorical_accuracy: 0.3936 - top_2_accuracy: 0.6019 - top_3_accuracy: 0.7635 - val_loss: 1.4907 - val_categorical_accuracy: 0.3719 - val_top_2_accuracy: 0.6133 - val_top_3_accuracy: 0.7857 - lr: 1.0000e-04\n",
      "Epoch 22/30\n",
      "461/461 [==============================] - ETA: 0s - loss: 1.5988 - categorical_accuracy: 0.3875 - top_2_accuracy: 0.5964 - top_3_accuracy: 0.7617\n",
      "Epoch 22: val_top_3_accuracy did not improve from 0.79064\n",
      "461/461 [==============================] - 143s 311ms/step - loss: 1.5988 - categorical_accuracy: 0.3875 - top_2_accuracy: 0.5964 - top_3_accuracy: 0.7617 - val_loss: 1.5049 - val_categorical_accuracy: 0.3719 - val_top_2_accuracy: 0.6108 - val_top_3_accuracy: 0.7857 - lr: 1.0000e-04\n",
      "Epoch 23/30\n",
      "461/461 [==============================] - ETA: 0s - loss: 1.5898 - categorical_accuracy: 0.4016 - top_2_accuracy: 0.6017 - top_3_accuracy: 0.7585\n",
      "Epoch 23: val_top_3_accuracy did not improve from 0.79064\n",
      "461/461 [==============================] - 145s 315ms/step - loss: 1.5898 - categorical_accuracy: 0.4016 - top_2_accuracy: 0.6017 - top_3_accuracy: 0.7585 - val_loss: 1.4989 - val_categorical_accuracy: 0.3793 - val_top_2_accuracy: 0.6158 - val_top_3_accuracy: 0.7882 - lr: 1.0000e-04\n",
      "Epoch 24/30\n",
      "461/461 [==============================] - ETA: 0s - loss: 1.5797 - categorical_accuracy: 0.4064 - top_2_accuracy: 0.6127 - top_3_accuracy: 0.7711\n",
      "Epoch 24: val_top_3_accuracy improved from 0.79064 to 0.79310, saving model to model_v2.h5\n",
      "461/461 [==============================] - 145s 314ms/step - loss: 1.5797 - categorical_accuracy: 0.4064 - top_2_accuracy: 0.6127 - top_3_accuracy: 0.7711 - val_loss: 1.4989 - val_categorical_accuracy: 0.3818 - val_top_2_accuracy: 0.6182 - val_top_3_accuracy: 0.7931 - lr: 1.0000e-04\n",
      "Epoch 25/30\n",
      "461/461 [==============================] - ETA: 0s - loss: 1.5906 - categorical_accuracy: 0.4012 - top_2_accuracy: 0.6077 - top_3_accuracy: 0.7632\n",
      "Epoch 25: val_top_3_accuracy did not improve from 0.79310\n",
      "461/461 [==============================] - 144s 312ms/step - loss: 1.5906 - categorical_accuracy: 0.4012 - top_2_accuracy: 0.6077 - top_3_accuracy: 0.7632 - val_loss: 1.4885 - val_categorical_accuracy: 0.3793 - val_top_2_accuracy: 0.6182 - val_top_3_accuracy: 0.7882 - lr: 1.0000e-04\n",
      "Epoch 26/30\n",
      "461/461 [==============================] - ETA: 0s - loss: 1.5902 - categorical_accuracy: 0.4018 - top_2_accuracy: 0.6079 - top_3_accuracy: 0.7656\n",
      "Epoch 26: val_top_3_accuracy did not improve from 0.79310\n",
      "461/461 [==============================] - 143s 309ms/step - loss: 1.5902 - categorical_accuracy: 0.4018 - top_2_accuracy: 0.6079 - top_3_accuracy: 0.7656 - val_loss: 1.5006 - val_categorical_accuracy: 0.3842 - val_top_2_accuracy: 0.6158 - val_top_3_accuracy: 0.7857 - lr: 1.0000e-04\n",
      "Epoch 27/30\n",
      "461/461 [==============================] - ETA: 0s - loss: 1.5920 - categorical_accuracy: 0.3973 - top_2_accuracy: 0.6027 - top_3_accuracy: 0.7652\n",
      "Epoch 27: val_top_3_accuracy did not improve from 0.79310\n",
      "461/461 [==============================] - 143s 311ms/step - loss: 1.5920 - categorical_accuracy: 0.3973 - top_2_accuracy: 0.6027 - top_3_accuracy: 0.7652 - val_loss: 1.4895 - val_categorical_accuracy: 0.3793 - val_top_2_accuracy: 0.6207 - val_top_3_accuracy: 0.7906 - lr: 1.0000e-04\n",
      "Epoch 28/30\n",
      "461/461 [==============================] - ETA: 0s - loss: 1.5938 - categorical_accuracy: 0.4010 - top_2_accuracy: 0.6049 - top_3_accuracy: 0.7628\n",
      "Epoch 28: val_top_3_accuracy did not improve from 0.79310\n",
      "461/461 [==============================] - 144s 313ms/step - loss: 1.5938 - categorical_accuracy: 0.4010 - top_2_accuracy: 0.6049 - top_3_accuracy: 0.7628 - val_loss: 1.5004 - val_categorical_accuracy: 0.3842 - val_top_2_accuracy: 0.6158 - val_top_3_accuracy: 0.7857 - lr: 1.0000e-04\n",
      "Epoch 29/30\n",
      "461/461 [==============================] - ETA: 0s - loss: 1.5853 - categorical_accuracy: 0.4014 - top_2_accuracy: 0.6069 - top_3_accuracy: 0.7656\n",
      "Epoch 29: val_top_3_accuracy did not improve from 0.79310\n",
      "461/461 [==============================] - 147s 319ms/step - loss: 1.5853 - categorical_accuracy: 0.4014 - top_2_accuracy: 0.6069 - top_3_accuracy: 0.7656 - val_loss: 1.5001 - val_categorical_accuracy: 0.3842 - val_top_2_accuracy: 0.6158 - val_top_3_accuracy: 0.7857 - lr: 1.0000e-04\n",
      "Epoch 30/30\n",
      "461/461 [==============================] - ETA: 0s - loss: 1.5816 - categorical_accuracy: 0.4033 - top_2_accuracy: 0.6138 - top_3_accuracy: 0.7695\n",
      "Epoch 30: val_top_3_accuracy improved from 0.79310 to 0.79803, saving model to model_v2.h5\n",
      "461/461 [==============================] - 157s 340ms/step - loss: 1.5816 - categorical_accuracy: 0.4033 - top_2_accuracy: 0.6138 - top_3_accuracy: 0.7695 - val_loss: 1.5003 - val_categorical_accuracy: 0.3842 - val_top_2_accuracy: 0.6281 - val_top_3_accuracy: 0.7980 - lr: 1.0000e-04\n"
     ]
    }
   ],
   "source": [
    "history = model.fit(train_batches, steps_per_epoch=train_steps, \n",
    "                                class_weight=class_weights,\n",
    "                                validation_data=valid_batches,\n",
    "                                validation_steps=val_steps,\n",
    "                                epochs=30, verbose=1,\n",
    "                                callbacks=callbacks_list)"
   ]
  },
  {
   "cell_type": "markdown",
   "id": "a319c775",
   "metadata": {},
   "source": [
    "### Evalaute the modell using the val set"
   ]
  },
  {
   "cell_type": "code",
   "execution_count": 35,
   "id": "9bede6fd",
   "metadata": {},
   "outputs": [
    {
     "name": "stderr",
     "output_type": "stream",
     "text": [
      "C:\\Users\\vivek\\AppData\\Local\\Temp\\ipykernel_27428\\3141950700.py:7: UserWarning: `Model.evaluate_generator` is deprecated and will be removed in a future version. Please use `Model.evaluate`, which supports generators.\n",
      "  model.evaluate_generator(test_batches,\n"
     ]
    },
    {
     "name": "stdout",
     "output_type": "stream",
     "text": [
      "WARNING:tensorflow:Your input ran out of data; interrupting training. Make sure that your dataset or generator can generate at least `steps_per_epoch * epochs` batches (in this case, 406 batches). You may need to use the repeat() function when building your dataset.\n",
      "val_loss: 1.5002986192703247\n",
      "val_cat_acc: 0.3842364549636841\n",
      "val_top_2_acc: 0.628078818321228\n",
      "val_top_3_acc: 0.7980295419692993\n"
     ]
    }
   ],
   "source": [
    "# Here the best epoch will be used.\n",
    "\n",
    "model.load_weights('model_v2.h5')\n",
    "\n",
    "\n",
    "val_loss, val_cat_acc, val_top_2_acc, val_top_3_acc = \\\n",
    "model.evaluate_generator(test_batches, \n",
    "                        steps=num_val_samples)\n",
    "\n",
    "print('val_loss:', val_loss)\n",
    "print('val_cat_acc:', val_cat_acc)\n",
    "print('val_top_2_acc:', val_top_2_acc)\n",
    "print('val_top_3_acc:', val_top_3_acc)"
   ]
  },
  {
   "cell_type": "code",
   "execution_count": 36,
   "id": "1bb42de8",
   "metadata": {},
   "outputs": [
    {
     "name": "stderr",
     "output_type": "stream",
     "text": [
      "C:\\Users\\vivek\\AppData\\Local\\Temp\\ipykernel_27428\\3261252217.py:7: UserWarning: `Model.evaluate_generator` is deprecated and will be removed in a future version. Please use `Model.evaluate`, which supports generators.\n",
      "  model.evaluate_generator(test_batches,\n"
     ]
    },
    {
     "name": "stdout",
     "output_type": "stream",
     "text": [
      "WARNING:tensorflow:Your input ran out of data; interrupting training. Make sure that your dataset or generator can generate at least `steps_per_epoch * epochs` batches (in this case, 406 batches). You may need to use the repeat() function when building your dataset.\n",
      "val_loss: 1.6162387132644653\n",
      "val_cat_acc: 0.3177340030670166\n",
      "val_top_2_acc: 0.5221675038337708\n",
      "val_top_3_acc: 0.8103448152542114\n"
     ]
    }
   ],
   "source": [
    "# Here the best epoch will be used.\n",
    "\n",
    "model.load_weights('model.h5')\n",
    "\n",
    "\n",
    "val_loss, val_cat_acc, val_top_2_acc, val_top_3_acc = \\\n",
    "model.evaluate_generator(test_batches, \n",
    "                        steps=num_val_samples)\n",
    "\n",
    "print('val_loss:', val_loss)\n",
    "print('val_cat_acc:', val_cat_acc)\n",
    "print('val_top_2_acc:', val_top_2_acc)\n",
    "print('val_top_3_acc:', val_top_3_acc)"
   ]
  },
  {
   "cell_type": "markdown",
   "id": "57de43ab",
   "metadata": {},
   "source": [
    "### Plot the Training Curve"
   ]
  },
  {
   "cell_type": "code",
   "execution_count": 39,
   "id": "1df28f39",
   "metadata": {},
   "outputs": [
    {
     "data": {
      "image/png": "[encoded data removed]",
      "text/plain": [
       "<Figure size 432x288 with 1 Axes>"
      ]
     },
     "metadata": {
      "needs_background": "light"
     },
     "output_type": "display_data"
    },
    {
     "data": {
      "image/png": "[encoded data removed]",
      "text/plain": [
       "<Figure size 432x288 with 1 Axes>"
      ]
     },
     "metadata": {
      "needs_background": "light"
     },
     "output_type": "display_data"
    },
    {
     "data": {
      "text/plain": [
       "<Figure size 432x288 with 0 Axes>"
      ]
     },
     "metadata": {},
     "output_type": "display_data"
    }
   ],
   "source": [
    "# display the loss and accuracy curves\n",
    "\n",
    "import matplotlib.pyplot as plt\n",
    "\n",
    "acc = history.history['categorical_accuracy']\n",
    "val_acc = history.history['val_categorical_accuracy']\n",
    "loss = history.history['loss']\n",
    "val_loss = history.history['val_loss']\n",
    "epochs = range(1, len(acc) + 1)\n",
    "\n",
    "plt.plot(epochs, loss, 'bo', label='Training loss')\n",
    "plt.plot(epochs, val_loss, 'b', label='Validation loss')\n",
    "plt.title('Training and validation loss')\n",
    "plt.legend()\n",
    "plt.figure()\n",
    "\n",
    "plt.plot(epochs, acc, 'bo', label='Training cat acc')\n",
    "plt.plot(epochs, val_acc, 'b', label='Validation cat acc')\n",
    "plt.title('Training and validation cat accuracy')\n",
    "plt.legend()\n",
    "plt.figure()\n",
    "\n",
    "plt.show()"
   ]
  },
  {
   "cell_type": "markdown",
   "id": "5df95f8f",
   "metadata": {},
   "source": [
    "### Create a Confusion Matrix"
   ]
  },
  {
   "cell_type": "code",
   "execution_count": 40,
   "id": "2fa36e97",
   "metadata": {},
   "outputs": [],
   "source": [
    "# Get the labels of the test images.\n",
    "# Note that cats and dogs are in seperate folders therefore\n",
    "# the code below can get the labels depending on the folder the image is in.\n",
    "\n",
    "test_labels = test_batches.classes"
   ]
  },
  {
   "cell_type": "code",
   "execution_count": 41,
   "id": "d99424f6",
   "metadata": {},
   "outputs": [
    {
     "data": {
      "text/plain": [
       "{'akiec': 0, 'bcc': 1, 'bkl': 2, 'df': 3, 'mel': 4, 'nv': 5, 'vasc': 6}"
      ]
     },
     "execution_count": 41,
     "metadata": {},
     "output_type": "execute_result"
    }
   ],
   "source": [
    "# Print the label associated with each class\n",
    "test_batches.class_indices"
   ]
  },
  {
   "cell_type": "code",
   "execution_count": 42,
   "id": "020e71ee",
   "metadata": {},
   "outputs": [
    {
     "name": "stderr",
     "output_type": "stream",
     "text": [
      "C:\\Users\\vivek\\AppData\\Local\\Temp\\ipykernel_27428\\1979356419.py:2: UserWarning: `Model.predict_generator` is deprecated and will be removed in a future version. Please use `Model.predict`, which supports generators.\n",
      "  predictions = model.predict_generator(test_batches, steps=num_val_samples, verbose=1)\n"
     ]
    },
    {
     "name": "stdout",
     "output_type": "stream",
     "text": [
      " 41/406 [==>...........................] - ETA: 1:01WARNING:tensorflow:Your input ran out of data; interrupting training. Make sure that your dataset or generator can generate at least `steps_per_epoch * epochs` batches (in this case, 406 batches). You may need to use the repeat() function when building your dataset.\n",
      "406/406 [==============================] - 7s 17ms/step\n"
     ]
    }
   ],
   "source": [
    "# make a prediction\n",
    "predictions = model.predict_generator(test_batches, steps=num_val_samples, verbose=1)"
   ]
  },
  {
   "cell_type": "code",
   "execution_count": 43,
   "id": "3a5fb0ee",
   "metadata": {},
   "outputs": [
    {
     "data": {
      "text/plain": [
       "(406, 7)"
      ]
     },
     "execution_count": 43,
     "metadata": {},
     "output_type": "execute_result"
    }
   ],
   "source": [
    "predictions.shape"
   ]
  },
  {
   "cell_type": "code",
   "execution_count": 44,
   "id": "1d4ed8f6",
   "metadata": {},
   "outputs": [],
   "source": [
    "# Source: Scikit Learn website\n",
    "# http://scikit-learn.org/stable/auto_examples/\n",
    "# model_selection/plot_confusion_matrix.html#sphx-glr-auto-examples-model-\n",
    "# selection-plot-confusion-matrix-py\n",
    "\n",
    "\n",
    "def plot_confusion_matrix(cm, classes,\n",
    "                          normalize=False,\n",
    "                          title='Confusion matrix',\n",
    "                          cmap=plt.cm.Blues):\n",
    "    \"\"\"\n",
    "    This function prints and plots the confusion matrix.\n",
    "    Normalization can be applied by setting `normalize=True`.\n",
    "    \"\"\"\n",
    "    if normalize:\n",
    "        cm = cm.astype('float') / cm.sum(axis=1)[:, np.newaxis]\n",
    "        print(\"Normalized confusion matrix\")\n",
    "    else:\n",
    "        print('Confusion matrix, without normalization')\n",
    "\n",
    "    print(cm)\n",
    "\n",
    "    plt.imshow(cm, interpolation='nearest', cmap=cmap)\n",
    "    plt.title(title)\n",
    "    plt.colorbar()\n",
    "    tick_marks = np.arange(len(classes))\n",
    "    plt.xticks(tick_marks, classes, rotation=45)\n",
    "    plt.yticks(tick_marks, classes)\n",
    "\n",
    "    fmt = '.2f' if normalize else 'd'\n",
    "    thresh = cm.max() / 2.\n",
    "    for i, j in itertools.product(range(cm.shape[0]), range(cm.shape[1])):\n",
    "        plt.text(j, i, format(cm[i, j], fmt),\n",
    "                 horizontalalignment=\"center\",\n",
    "                 color=\"white\" if cm[i, j] > thresh else \"black\")\n",
    "\n",
    "    plt.ylabel('True label')\n",
    "    plt.xlabel('Predicted label')\n",
    "    plt.tight_layout()\n",
    "\n"
   ]
  },
  {
   "cell_type": "code",
   "execution_count": 45,
   "id": "2af9d569",
   "metadata": {},
   "outputs": [
    {
     "data": {
      "text/plain": [
       "(406,)"
      ]
     },
     "execution_count": 45,
     "metadata": {},
     "output_type": "execute_result"
    }
   ],
   "source": [
    "test_labels.shape"
   ]
  },
  {
   "cell_type": "code",
   "execution_count": 46,
   "id": "a4cb1564",
   "metadata": {},
   "outputs": [],
   "source": [
    "# argmax returns the index of the max value in a row\n",
    "cm = confusion_matrix(test_labels, predictions.argmax(axis=1))"
   ]
  },
  {
   "cell_type": "code",
   "execution_count": 47,
   "id": "ac29fb8a",
   "metadata": {},
   "outputs": [
    {
     "data": {
      "text/plain": [
       "{'akiec': 0, 'bcc': 1, 'bkl': 2, 'df': 3, 'mel': 4, 'nv': 5, 'vasc': 6}"
      ]
     },
     "execution_count": 47,
     "metadata": {},
     "output_type": "execute_result"
    }
   ],
   "source": [
    "test_batches.class_indices"
   ]
  },
  {
   "cell_type": "code",
   "execution_count": 48,
   "id": "9ae3f00b",
   "metadata": {},
   "outputs": [
    {
     "name": "stdout",
     "output_type": "stream",
     "text": [
      "Confusion matrix, without normalization\n",
      "[[ 0  0  0  0 40 12  0]\n",
      " [ 0  0  0  0 45 15  0]\n",
      " [ 0  0  0  0 28 47  0]\n",
      " [ 0  0  0  0  2 16  0]\n",
      " [ 0  0  0  0 40 38  0]\n",
      " [ 0  0  0  0  1 89  0]\n",
      " [ 0  0  0  0  0 33  0]]\n"
     ]
    },
    {
     "data": {
      "image/png": "[encoded data removed]",
      "text/plain": [
       "<Figure size 432x288 with 2 Axes>"
      ]
     },
     "metadata": {
      "needs_background": "light"
     },
     "output_type": "display_data"
    }
   ],
   "source": [
    "# Define the labels of the class indices. These need to match the \n",
    "# order shown above.\n",
    "cm_plot_labels = ['akiec', 'bcc', 'bkl', 'df', 'mel','nv', 'vasc']\n",
    "\n",
    "plot_confusion_matrix(cm, cm_plot_labels, title='Confusion Matrix')"
   ]
  },
  {
   "cell_type": "code",
   "execution_count": null,
   "id": "4ee4f96f",
   "metadata": {},
   "outputs": [],
   "source": []
  }
 ],
 "metadata": {
  "kernelspec": {
   "display_name": "Python 3 (ipykernel)",
   "language": "python",
   "name": "python3"
  },
  "language_info": {
   "codemirror_mode": {
    "name": "ipython",
    "version": 3
   },
   "file_extension": ".py",
   "mimetype": "text/x-python",
   "name": "python",
   "nbconvert_exporter": "python",
   "pygments_lexer": "ipython3",
   "version": "3.10.4"
  }
 },
 "nbformat": 4,
 "nbformat_minor": 5
}
